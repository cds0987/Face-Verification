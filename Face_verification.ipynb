{
  "nbformat": 4,
  "nbformat_minor": 0,
  "metadata": {
    "colab": {
      "provenance": [],
      "authorship_tag": "ABX9TyPIgBo1ZWXxt4KTOKvlapKP",
      "include_colab_link": true
    },
    "kernelspec": {
      "name": "python3",
      "display_name": "Python 3"
    },
    "language_info": {
      "name": "python"
    }
  },
  "cells": [
    {
      "cell_type": "markdown",
      "metadata": {
        "id": "view-in-github",
        "colab_type": "text"
      },
      "source": [
        "<a href=\"https://colab.research.google.com/github/cds0987/Face-Verification/blob/main/Face_verification.ipynb\" target=\"_parent\"><img src=\"https://colab.research.google.com/assets/colab-badge.svg\" alt=\"Open In Colab\"/></a>"
      ]
    },
    {
      "cell_type": "code",
      "execution_count": 1,
      "metadata": {
        "id": "MQcpqMaJeHcW"
      },
      "outputs": [],
      "source": [
        "import tensorflow as tf\n",
        "from tensorflow.keras import layers, models\n",
        "\n",
        "def build_siamese_model(input_shape):\n",
        "    base_model = tf.keras.applications.MobileNetV2(input_shape=input_shape,\n",
        "                                                   include_top=False,\n",
        "                                                   weights='imagenet')\n",
        "    base_model.trainable = False\n",
        "\n",
        "    input1 = layers.Input(shape=input_shape)\n",
        "    input2 = layers.Input(shape=input_shape)\n",
        "\n",
        "    # Shared CNN base\n",
        "    encoded1 = base_model(input1)\n",
        "    encoded2 = base_model(input2)\n",
        "\n",
        "    # L1 distance layer\n",
        "    l1_distance = lambda x: tf.keras.backend.abs(x[0] - x[1])\n",
        "    l1_layer = layers.Lambda(l1_distance)\n",
        "    l1_distance_layer = l1_layer([encoded1, encoded2])\n",
        "\n",
        "    # Fully connected layer\n",
        "    fc1 = layers.Dense(128, activation='relu')(l1_distance_layer)\n",
        "    output = layers.Dense(1, activation='sigmoid')(fc1)\n",
        "\n",
        "    siamese_model = models.Model(inputs=[input1, input2], outputs=output)\n",
        "\n",
        "    return siamese_model\n"
      ]
    },
    {
      "cell_type": "code",
      "source": [],
      "metadata": {
        "id": "YUdLAwjqeRF4"
      },
      "execution_count": null,
      "outputs": []
    }
  ]
}